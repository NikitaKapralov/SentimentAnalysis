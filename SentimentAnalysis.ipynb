{
 "cells": [
  {
   "cell_type": "code",
   "execution_count": 2,
   "metadata": {},
   "outputs": [],
   "source": [
    "from tensorflow.keras.datasets import imdb\n",
    "from tensorflow.keras.models import Sequential\n",
    "from tensorflow.keras.layers import Dense, Embedding, LSTM\n",
    "from tensorflow.keras import utils\n",
    "from tensorflow.keras.preprocessing.sequence import pad_sequences\n",
    "import numpy as np\n",
    "import matplotlib.pyplot as plt\n",
    "%matplotlib inline"
   ]
  },
  {
   "cell_type": "markdown",
   "metadata": {},
   "source": [
    "## Подготовка данных"
   ]
  },
  {
   "cell_type": "code",
   "execution_count": 8,
   "metadata": {},
   "outputs": [
    {
     "data": {
      "text/plain": [
       "(25000, 25000)"
      ]
     },
     "execution_count": 8,
     "metadata": {},
     "output_type": "execute_result"
    }
   ],
   "source": [
    "len(imdb.load_data()[0][0]),len(imdb.load_data()[1][0])"
   ]
  },
  {
   "cell_type": "code",
   "execution_count": 10,
   "metadata": {},
   "outputs": [],
   "source": [
    "max_words = 10000"
   ]
  },
  {
   "cell_type": "code",
   "execution_count": 11,
   "metadata": {},
   "outputs": [],
   "source": [
    "(x_train, y_train), (x_test, y_test) = imdb.load_data(num_words=max_words)"
   ]
  },
  {
   "cell_type": "code",
   "execution_count": 12,
   "metadata": {},
   "outputs": [
    {
     "data": {
      "text/plain": [
       "25000"
      ]
     },
     "execution_count": 12,
     "metadata": {},
     "output_type": "execute_result"
    }
   ],
   "source": [
    "len(x_train)"
   ]
  },
  {
   "cell_type": "code",
   "execution_count": 14,
   "metadata": {},
   "outputs": [],
   "source": [
    "maxlen = 150\n",
    "x_train = pad_sequences(x_train, maxlen=maxlen)\n",
    "x_test = pad_sequences(x_test, maxlen=maxlen)"
   ]
  },
  {
   "cell_type": "code",
   "execution_count": 15,
   "metadata": {},
   "outputs": [
    {
     "data": {
      "text/plain": [
       "array([  12,   16,   43,  530,   38,   76,   15,   13, 1247,    4,   22,\n",
       "         17,  515,   17,   12,   16,  626,   18,    2,    5,   62,  386,\n",
       "         12,    8,  316,    8,  106,    5,    4, 2223, 5244,   16,  480,\n",
       "         66, 3785,   33,    4,  130,   12,   16,   38,  619,    5,   25,\n",
       "        124,   51,   36,  135,   48,   25, 1415,   33,    6,   22,   12,\n",
       "        215,   28,   77,   52,    5,   14,  407,   16,   82,    2,    8,\n",
       "          4,  107,  117, 5952,   15,  256,    4,    2,    7, 3766,    5,\n",
       "        723,   36,   71,   43,  530,  476,   26,  400,  317,   46,    7,\n",
       "          4,    2, 1029,   13,  104,   88,    4,  381,   15,  297,   98,\n",
       "         32, 2071,   56,   26,  141,    6,  194, 7486,   18,    4,  226,\n",
       "         22,   21,  134,  476,   26,  480,    5,  144,   30, 5535,   18,\n",
       "         51,   36,   28,  224,   92,   25,  104,    4,  226,   65,   16,\n",
       "         38, 1334,   88,   12,   16,  283,    5,   16, 4472,  113,  103,\n",
       "         32,   15,   16, 5345,   19,  178,   32])"
      ]
     },
     "execution_count": 15,
     "metadata": {},
     "output_type": "execute_result"
    }
   ],
   "source": [
    "x_train[0]"
   ]
  },
  {
   "cell_type": "markdown",
   "metadata": {},
   "source": [
    "## Создание нейронной сети"
   ]
  },
  {
   "cell_type": "code",
   "execution_count": 16,
   "metadata": {},
   "outputs": [],
   "source": [
    "model = Sequential()\n",
    "model.add(Embedding(max_words, 8, input_length=maxlen))\n",
    "model.add(LSTM(32, recurrent_dropout=0.2))\n",
    "model.add(Dense(1, activation='sigmoid'))\n"
   ]
  },
  {
   "cell_type": "code",
   "execution_count": 17,
   "metadata": {},
   "outputs": [
    {
     "name": "stdout",
     "output_type": "stream",
     "text": [
      "Model: \"sequential_1\"\n",
      "_________________________________________________________________\n",
      " Layer (type)                Output Shape              Param #   \n",
      "=================================================================\n",
      " embedding (Embedding)       (None, 150, 8)            80000     \n",
      "                                                                 \n",
      " lstm (LSTM)                 (None, 32)                5248      \n",
      "                                                                 \n",
      " dense (Dense)               (None, 1)                 33        \n",
      "                                                                 \n",
      "=================================================================\n",
      "Total params: 85,281\n",
      "Trainable params: 85,281\n",
      "Non-trainable params: 0\n",
      "_________________________________________________________________\n"
     ]
    }
   ],
   "source": [
    "model.summary()"
   ]
  },
  {
   "cell_type": "code",
   "execution_count": 8,
   "metadata": {},
   "outputs": [],
   "source": [
    "model.compile(optimizer='adam',\n",
    "              loss=\"binary_crossentropy\",  #loss function\n",
    "              metrics=['accuracy'])"
   ]
  },
  {
   "cell_type": "markdown",
   "metadata": {},
   "source": [
    "## Обучение нейронной сети"
   ]
  },
  {
   "cell_type": "code",
   "execution_count": 9,
   "metadata": {},
   "outputs": [
    {
     "name": "stdout",
     "output_type": "stream",
     "text": [
      "Epoch 1/15\n",
      "176/176 [==============================] - 19s 91ms/step - loss: 0.5241 - accuracy: 0.7202 - val_loss: 0.3552 - val_accuracy: 0.8544\n",
      "Epoch 2/15\n",
      "176/176 [==============================] - 16s 90ms/step - loss: 0.2828 - accuracy: 0.8880 - val_loss: 0.3170 - val_accuracy: 0.8656\n",
      "Epoch 3/15\n",
      "176/176 [==============================] - 16s 89ms/step - loss: 0.2177 - accuracy: 0.9178 - val_loss: 0.3384 - val_accuracy: 0.8572\n",
      "Epoch 4/15\n",
      "176/176 [==============================] - 16s 89ms/step - loss: 0.1866 - accuracy: 0.9316 - val_loss: 0.3909 - val_accuracy: 0.8656\n",
      "Epoch 5/15\n",
      "176/176 [==============================] - 16s 89ms/step - loss: 0.1543 - accuracy: 0.9457 - val_loss: 0.3703 - val_accuracy: 0.8648\n",
      "Epoch 6/15\n",
      "176/176 [==============================] - 16s 89ms/step - loss: 0.1334 - accuracy: 0.9544 - val_loss: 0.4371 - val_accuracy: 0.8596\n",
      "Epoch 7/15\n",
      "176/176 [==============================] - 16s 89ms/step - loss: 0.1141 - accuracy: 0.9616 - val_loss: 0.5012 - val_accuracy: 0.8532\n",
      "Epoch 8/15\n",
      "176/176 [==============================] - 16s 89ms/step - loss: 0.0975 - accuracy: 0.9681 - val_loss: 0.5123 - val_accuracy: 0.8520\n",
      "Epoch 9/15\n",
      "176/176 [==============================] - 16s 89ms/step - loss: 0.0871 - accuracy: 0.9727 - val_loss: 0.5905 - val_accuracy: 0.8512\n",
      "Epoch 10/15\n",
      "176/176 [==============================] - 16s 89ms/step - loss: 0.0828 - accuracy: 0.9725 - val_loss: 0.5817 - val_accuracy: 0.8456\n",
      "Epoch 11/15\n",
      "176/176 [==============================] - 16s 89ms/step - loss: 0.0764 - accuracy: 0.9752 - val_loss: 0.5597 - val_accuracy: 0.8444\n",
      "Epoch 12/15\n",
      "176/176 [==============================] - 16s 89ms/step - loss: 0.0592 - accuracy: 0.9825 - val_loss: 0.6281 - val_accuracy: 0.8508\n",
      "Epoch 13/15\n",
      "176/176 [==============================] - 16s 90ms/step - loss: 0.0589 - accuracy: 0.9815 - val_loss: 0.6260 - val_accuracy: 0.8492\n",
      "Epoch 14/15\n",
      "176/176 [==============================] - 16s 90ms/step - loss: 0.0529 - accuracy: 0.9832 - val_loss: 0.7870 - val_accuracy: 0.8440\n",
      "Epoch 15/15\n",
      "176/176 [==============================] - 16s 90ms/step - loss: 0.0560 - accuracy: 0.9817 - val_loss: 0.6648 - val_accuracy: 0.8436\n"
     ]
    }
   ],
   "source": [
    "history = model.fit(x_train,\n",
    "                    y_train,\n",
    "                    epochs=15,\n",
    "                    batch_size=128,\n",
    "                    validation_split = 0.1)"
   ]
  },
  {
   "cell_type": "markdown",
   "metadata": {},
   "source": [
    "## Смотрим результат на тестовых данных"
   ]
  },
  {
   "cell_type": "code",
   "execution_count": 10,
   "metadata": {},
   "outputs": [
    {
     "name": "stdout",
     "output_type": "stream",
     "text": [
      "782/782 [==============================] - 8s 10ms/step - loss: 0.7151 - accuracy: 0.8287\n"
     ]
    }
   ],
   "source": [
    "scores = model.evaluate(x_test, y_test, verbose=1)"
   ]
  },
  {
   "cell_type": "code",
   "execution_count": null,
   "metadata": {},
   "outputs": [],
   "source": []
  }
 ],
 "metadata": {
  "kernelspec": {
   "display_name": "Python 3 (ipykernel)",
   "language": "python",
   "name": "python3"
  },
  "language_info": {
   "codemirror_mode": {
    "name": "ipython",
    "version": 3
   },
   "file_extension": ".py",
   "mimetype": "text/x-python",
   "name": "python",
   "nbconvert_exporter": "python",
   "pygments_lexer": "ipython3",
   "version": "3.10.6"
  },
  "vscode": {
   "interpreter": {
    "hash": "a254b81cf4c3ee45376e657e3adbdf1b9f379dfd89b467fe3cd164eb5aeed6d3"
   }
  }
 },
 "nbformat": 4,
 "nbformat_minor": 2
}
